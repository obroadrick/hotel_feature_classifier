{
 "cells": [
  {
   "cell_type": "code",
   "execution_count": null,
   "metadata": {},
   "outputs": [],
   "source": [
    "import pandas as pd\n",
    "import torch\n",
    "import torch.optim as optim\n",
    "from torch.utils.data import DataLoader\n",
    "import numpy as np\n",
    "from sklearn.model_selection import train_test_split\n",
    "from BinaryClassifier import BinaryClassification\n",
    "from tqdm import tqdm\n",
    "import neptune.new as neptune"
   ]
  },
  {
   "cell_type": "code",
   "execution_count": null,
   "metadata": {},
   "outputs": [],
   "source": [
    "dataset = pd.read_pickle('/home/mdt/datasets/BinClassDatasets/dataset.pckl')\n",
    "\n",
    "\n",
    "y = dataset.pop('label').to_numpy()\n",
    "X = dataset.to_numpy()\n",
    "\n",
    "\n",
    "\n",
    "X_train, X_test, y_train, y_test = train_test_split(X, y, test_size=0.20, random_state=40)\n",
    "\n",
    "from sklearn.decomposition import PCA\n",
    "\n",
    "# testing pca effectiveness!\n",
    "# pca = PCA(80)\n",
    "# X_train = pca.fit_transform(X_train)\n",
    "# X_test = pca.transform(X_test)\n",
    "# print(X_train.shape)\n",
    "\n",
    "test_loader = DataLoader([[X_test[i], y_test[i]] for i in range(len(X_test))], batch_size=1)\n",
    "\n",
    "device = torch.device(\"cuda:0\" if torch.cuda.is_available() else \"cpu\")\n",
    "print(device)\n"
   ]
  },
  {
   "cell_type": "code",
   "execution_count": null,
   "metadata": {},
   "outputs": [],
   "source": [
    "model = BinaryClassification()\n",
    "model.to(device)"
   ]
  },
  {
   "cell_type": "code",
   "execution_count": null,
   "metadata": {},
   "outputs": [],
   "source": [
    "def binary_accuracy(y_pred, y_test):\n",
    "    y_pred_tag = torch.round(torch.sigmoid(y_pred))\n",
    "\n",
    "    correct_results_sum = (y_pred_tag == y_test).sum().float()\n",
    "    acc = correct_results_sum / y_test.shape[0]\n",
    "    acc = torch.round(acc*100)\n",
    "    return acc\n",
    "def binary_accuracy_no_sig(y_pred, y_test):\n",
    "    correct_results_sum = np.sum(y_pred == y_test)\n",
    "    acc = correct_results_sum / y_test.shape[0]\n",
    "    return acc"
   ]
  },
  {
   "cell_type": "code",
   "execution_count": null,
   "metadata": {},
   "outputs": [],
   "source": [
    "def train(model, epochs, lr, optimizer, criterion, batch_size, run):\n",
    "\n",
    "    params = {'lr': lr, 'optimizer': 'Adam', 'loss': 'BCE', 'batch size': batch_size, 'epochs': epochs}   \n",
    "    run['parameters'] = params\n",
    "\n",
    "    train_loader = DataLoader([[X_train[i], y_train[i]] for i in range(len(X_train))], batch_size=batch_size)\n",
    "\n",
    "    EPOCHS = epochs\n",
    "    LR = lr\n",
    "    optimizer = optimizer(model.parameters(), lr=LR)\n",
    "    criterion = torch.nn.BCEWithLogitsLoss()\n",
    "\n",
    "    for epoch in range(1, EPOCHS+1):\n",
    "        epoch_loss = 0\n",
    "        epoch_acc = 0\n",
    "\n",
    "        model.train()\n",
    "\n",
    "        for X_batch, y_batch in tqdm(train_loader, total=int(len(X_train)/batch_size)+1, desc='Epoch - {}'.format(epoch)):\n",
    "            X_batch, y_batch = X_batch.to(device), y_batch.to(device)\n",
    "            optimizer.zero_grad()\n",
    "\n",
    "            y_pred = model(X_batch)\n",
    "\n",
    "            loss = criterion(y_pred, y_batch.unsqueeze(1).float())\n",
    "            acc = binary_accuracy(y_pred, y_batch.unsqueeze(1))\n",
    "\n",
    "            loss.backward()\n",
    "            optimizer.step()\n",
    "\n",
    "            epoch_loss += loss.item()\n",
    "            epoch_acc += acc.item()\n",
    "\n",
    "        run['train/loss'].log(epoch_loss/len(train_loader))\n",
    "        run['train/acc'].log(epoch_acc/len(train_loader))\n",
    "        print(f'Epoch {epoch+0:03}: | Loss: {epoch_loss/len(train_loader):.5f} | Acc: {epoch_acc/len(train_loader):.3f}')\n",
    "    # return model"
   ]
  },
  {
   "cell_type": "code",
   "execution_count": null,
   "metadata": {},
   "outputs": [],
   "source": [
    "run = neptune.init(\n",
    "        project=\"mdt/TCAM\",\n",
    "        api_token=\"NO\",\n",
    ")\n",
    "\n",
    "train(model, epochs=40, lr=0.01, optimizer=optim.Adam, criterion=torch.nn.BCEWithLogitsLoss(), batch_size=128, run=run)\n",
    "\n",
    "from sklearn.metrics import confusion_matrix, classification_report\n",
    "test_loader = DataLoader([[X_test[i], y_test[i]] for i in range(len(X_test))], batch_size=1)\n",
    "\n",
    "y_pred_list = []\n",
    "model.eval()\n",
    "num_right = 0\n",
    "with torch.no_grad():\n",
    "    for X_batch, y_true in test_loader:\n",
    "        X_batch = X_batch.to(device)\n",
    "        y_test_pred = model(X_batch)\n",
    "        y_test_pred = torch.sigmoid(y_test_pred)\n",
    "        y_pred_tag = torch.round(y_test_pred)\n",
    "        p = y_pred_tag.cpu().numpy()\n",
    "        y_pred_list.append(p)\n",
    "y_pred_list = [int(a.squeeze().tolist()) for a in y_pred_list]\n",
    "print(binary_accuracy_no_sig(y_pred_list, y_test))\n",
    "run['test/acc'].log(binary_accuracy_no_sig(y_pred_list, y_test))\n",
    "\n",
    "run.stop()\n"
   ]
  }
 ],
 "metadata": {
  "interpreter": {
   "hash": "4e1d9a8909477db77738c33245c29c7265277ef753467dede8cf3f814cde494e"
  },
  "kernelspec": {
   "display_name": "Python 3.9.7 64-bit",
   "language": "python",
   "name": "python3"
  },
  "language_info": {
   "codemirror_mode": {
    "name": "ipython",
    "version": 3
   },
   "file_extension": ".py",
   "mimetype": "text/x-python",
   "name": "python",
   "nbconvert_exporter": "python",
   "pygments_lexer": "ipython3",
   "version": "3.9.7"
  },
  "orig_nbformat": 4
 },
 "nbformat": 4,
 "nbformat_minor": 2
}
